{
 "cells": [
  {
   "cell_type": "code",
   "execution_count": 9,
   "id": "505b89a5-ca18-4e0b-8c8c-6100f8cea5e7",
   "metadata": {},
   "outputs": [
    {
     "name": "stdout",
     "output_type": "stream",
     "text": [
      "file downloaded\n"
     ]
    }
   ],
   "source": [
    "import requests\n",
    "#Constants\n",
    "DATASET_URL = 'https://raw.githubusercontent.com/fivethirtyeight/data/master/nba-elo/nbaallelo.csv'\n",
    "FILENAME = 'tmp/NBA_DATA.csv'\n",
    "\n",
    "# fetch external file\n",
    "response = requests.get(DATASET_URL)\n",
    "response.raise_for_status()\n",
    "\n",
    "# Save data in file\n",
    "with open(FILENAME, 'wb') as csv_file:\n",
    "    csv_file.write(response.content)\n",
    "\n",
    "# Print finished\n",
    "print('file downloaded')\n"
   ]
  }
 ],
 "metadata": {
  "kernelspec": {
   "display_name": "Python 3 (ipykernel)",
   "language": "python",
   "name": "python3"
  },
  "language_info": {
   "codemirror_mode": {
    "name": "ipython",
    "version": 3
   },
   "file_extension": ".py",
   "mimetype": "text/x-python",
   "name": "python",
   "nbconvert_exporter": "python",
   "pygments_lexer": "ipython3",
   "version": "3.10.11"
  }
 },
 "nbformat": 4,
 "nbformat_minor": 5
}
